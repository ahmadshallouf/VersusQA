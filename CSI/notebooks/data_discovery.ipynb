{
 "cells": [
  {
   "cell_type": "code",
   "execution_count": 10,
   "id": "initial_id",
   "metadata": {
    "collapsed": true,
    "ExecuteTime": {
     "end_time": "2023-10-16T11:19:48.213114Z",
     "start_time": "2023-10-16T11:19:48.154223Z"
    }
   },
   "outputs": [],
   "source": [
    "import numpy as np\n",
    "import pandas as pd\n",
    "\n",
    "#import and view csv file dataset.csv\n",
    "df = pd.read_csv('../Dataset/dataset.csv')"
   ]
  },
  {
   "cell_type": "code",
   "execution_count": 11,
   "outputs": [
    {
     "data": {
      "text/plain": "        object_a    object_b most_frequent_label  \\\n7180   Windows 8   Windows 7              BETTER   \n700   PostgreSQL       MySQL              BETTER   \n6627    Cadillac       Lexus              BETTER   \n3048    Chrysler      Toyota              BETTER   \n4939      SQLite       MySQL               WORSE   \n4773   Microsoft      Google              BETTER   \n4731      OpenCL        CUDA              BETTER   \n7106      Google    Kingston              BETTER   \n113         Java      Python              BETTER   \n126        MySQL  PostgreSQL              BETTER   \n\n                                               sentence  \n7180  I'm not saying Windows 8 is worse than Windows...  \n700   WHITE PAPER: Many IT professionals generally r...  \n6627  Those numbers, Cadillac points out, are better...  \n3048  In my opinion Dodge and Chrysler are far bette...  \n4939  (What about PostpreSQL you ask? Meh, decent li...  \n4773  Microsoft Live Maps Looks Better Than Google M...  \n4731  AMD's OpenCL is easier to program for than CUD...  \n7106  I'm using mesa and xserver 9999 ______________...  \n113   For a performance-critical Pig UDF, Java is mu...  \n126   Allen downloaded the free versions of both dat...  ",
      "text/html": "<div>\n<style scoped>\n    .dataframe tbody tr th:only-of-type {\n        vertical-align: middle;\n    }\n\n    .dataframe tbody tr th {\n        vertical-align: top;\n    }\n\n    .dataframe thead th {\n        text-align: right;\n    }\n</style>\n<table border=\"1\" class=\"dataframe\">\n  <thead>\n    <tr style=\"text-align: right;\">\n      <th></th>\n      <th>object_a</th>\n      <th>object_b</th>\n      <th>most_frequent_label</th>\n      <th>sentence</th>\n    </tr>\n  </thead>\n  <tbody>\n    <tr>\n      <th>7180</th>\n      <td>Windows 8</td>\n      <td>Windows 7</td>\n      <td>BETTER</td>\n      <td>I'm not saying Windows 8 is worse than Windows...</td>\n    </tr>\n    <tr>\n      <th>700</th>\n      <td>PostgreSQL</td>\n      <td>MySQL</td>\n      <td>BETTER</td>\n      <td>WHITE PAPER: Many IT professionals generally r...</td>\n    </tr>\n    <tr>\n      <th>6627</th>\n      <td>Cadillac</td>\n      <td>Lexus</td>\n      <td>BETTER</td>\n      <td>Those numbers, Cadillac points out, are better...</td>\n    </tr>\n    <tr>\n      <th>3048</th>\n      <td>Chrysler</td>\n      <td>Toyota</td>\n      <td>BETTER</td>\n      <td>In my opinion Dodge and Chrysler are far bette...</td>\n    </tr>\n    <tr>\n      <th>4939</th>\n      <td>SQLite</td>\n      <td>MySQL</td>\n      <td>WORSE</td>\n      <td>(What about PostpreSQL you ask? Meh, decent li...</td>\n    </tr>\n    <tr>\n      <th>4773</th>\n      <td>Microsoft</td>\n      <td>Google</td>\n      <td>BETTER</td>\n      <td>Microsoft Live Maps Looks Better Than Google M...</td>\n    </tr>\n    <tr>\n      <th>4731</th>\n      <td>OpenCL</td>\n      <td>CUDA</td>\n      <td>BETTER</td>\n      <td>AMD's OpenCL is easier to program for than CUD...</td>\n    </tr>\n    <tr>\n      <th>7106</th>\n      <td>Google</td>\n      <td>Kingston</td>\n      <td>BETTER</td>\n      <td>I'm using mesa and xserver 9999 ______________...</td>\n    </tr>\n    <tr>\n      <th>113</th>\n      <td>Java</td>\n      <td>Python</td>\n      <td>BETTER</td>\n      <td>For a performance-critical Pig UDF, Java is mu...</td>\n    </tr>\n    <tr>\n      <th>126</th>\n      <td>MySQL</td>\n      <td>PostgreSQL</td>\n      <td>BETTER</td>\n      <td>Allen downloaded the free versions of both dat...</td>\n    </tr>\n  </tbody>\n</table>\n</div>"
     },
     "execution_count": 11,
     "metadata": {},
     "output_type": "execute_result"
    }
   ],
   "source": [
    "# only keep the columns object_a, object_b, most_frequent_label, sentence\n",
    "df = df[['object_a', 'object_b', 'most_frequent_label', 'sentence']]\n",
    "# choose random 10 items from df where lables is not NON\n",
    "df = df[df['most_frequent_label'] != 'NONE'].sample(n=10)\n",
    "df"
   ],
   "metadata": {
    "collapsed": false,
    "ExecuteTime": {
     "end_time": "2023-10-16T11:19:48.741934Z",
     "start_time": "2023-10-16T11:19:48.734785Z"
    }
   },
   "id": "ebcb299b8737ac2c"
  },
  {
   "cell_type": "code",
   "execution_count": 4,
   "outputs": [],
   "source": [
    "dataset = df.copy()"
   ],
   "metadata": {
    "collapsed": false,
    "ExecuteTime": {
     "end_time": "2023-10-02T13:24:09.049012Z",
     "start_time": "2023-10-02T13:24:09.044634Z"
    }
   },
   "id": "cd9c51731250bf96"
  },
  {
   "cell_type": "code",
   "execution_count": 5,
   "outputs": [],
   "source": [
    "# shuffle dataset\n",
    "dataset = dataset.sample(frac=1).reset_index(drop=True)\n",
    "\n",
    "# rename column most_frequent_label to y\n",
    "dataset = dataset.rename(columns={'most_frequent_label': 'y'})\n",
    "\n",
    "# rearange columns so that column y is the last one\n",
    "dataset = dataset[['object_a', 'object_b', 'sentence', 'y']]\n",
    "\n",
    "# transform labels where NONE = 1, Better = 2, WORSE = 0\n",
    "dataset['y'] = dataset['y'].replace(['BETTER','NONE', 'WORSE'], [0, 1, 2])\n",
    "\n",
    "# concatenate object_a and object_b into one column\n",
    "dataset['objects'] = dataset['object_a'] + ', ' + dataset['object_b']\n",
    "\n",
    "# drop object_a and object_b columns\n",
    "dataset = dataset.drop(['object_a', 'object_b'], axis=1)\n",
    "\n",
    "# concatenate objects and sentence into one column seperated by a comma\n",
    "dataset['sentence'] = dataset['objects'] + ', ' + dataset['sentence']\n",
    "\n",
    "# drop objects column\n",
    "dataset = dataset.drop(['objects'], axis=1)\n",
    "\n",
    "# rename column sentence to x\n",
    "dataset = dataset.rename(columns={'sentence': 'x'})\n",
    "\n",
    "# rearange columns so that column x is the first one\n",
    "dataset = dataset[['x', 'y']]\n",
    "\n",
    "# save dataset to csv file\n",
    "dataset.to_csv('../Dataset/dataset_transformed.csv', index=False, sep='\\t')"
   ],
   "metadata": {
    "collapsed": false,
    "ExecuteTime": {
     "end_time": "2023-10-02T13:24:09.885705Z",
     "start_time": "2023-10-02T13:24:09.851311Z"
    }
   },
   "id": "a6c7e579a94ab3"
  },
  {
   "cell_type": "code",
   "execution_count": 6,
   "outputs": [],
   "source": [
    "# split dataset into train, validation and test sets\n",
    "train, validate, test = np.split(dataset.sample(frac=1), [int(.8*len(dataset)), int(.9*len(dataset))])\n",
    "\n",
    "# save train, validation and test sets to csv files\n",
    "train.to_csv('../Dataset/train.csv', index=False, sep='\\t')\n",
    "validate.to_csv('../Dataset/validate.csv', index=False, sep='\\t')\n",
    "test.to_csv('../Dataset/test.csv', index=False, sep='\\t')"
   ],
   "metadata": {
    "collapsed": false,
    "ExecuteTime": {
     "end_time": "2023-10-02T13:24:10.545168Z",
     "start_time": "2023-10-02T13:24:10.510787Z"
    }
   },
   "id": "504c5f9aac9a7142"
  },
  {
   "cell_type": "code",
   "execution_count": 7,
   "outputs": [
    {
     "data": {
      "text/plain": "y\n1    4174\n0    1110\n2     475\nName: count, dtype: int64"
     },
     "execution_count": 7,
     "metadata": {},
     "output_type": "execute_result"
    }
   ],
   "source": [
    "# check how often each label occurs in the train set\n",
    "train['y'].value_counts()"
   ],
   "metadata": {
    "collapsed": false,
    "ExecuteTime": {
     "end_time": "2023-10-02T13:24:11.143428Z",
     "start_time": "2023-10-02T13:24:11.137754Z"
    }
   },
   "id": "54d1525da3c24823"
  },
  {
   "cell_type": "code",
   "execution_count": 8,
   "outputs": [
    {
     "data": {
      "text/plain": "y\n1    532\n0    126\n2     62\nName: count, dtype: int64"
     },
     "execution_count": 8,
     "metadata": {},
     "output_type": "execute_result"
    }
   ],
   "source": [
    "# check how often each label occurs in the val set\n",
    "validate['y'].value_counts()"
   ],
   "metadata": {
    "collapsed": false,
    "ExecuteTime": {
     "end_time": "2023-10-02T13:24:11.881617Z",
     "start_time": "2023-10-02T13:24:11.879527Z"
    }
   },
   "id": "61940d4b3d317420"
  },
  {
   "cell_type": "code",
   "execution_count": 9,
   "outputs": [
    {
     "data": {
      "text/plain": "y\n1    536\n0    128\n2     56\nName: count, dtype: int64"
     },
     "execution_count": 9,
     "metadata": {},
     "output_type": "execute_result"
    }
   ],
   "source": [
    "# check how often each label occurs in the test set\n",
    "test['y'].value_counts()"
   ],
   "metadata": {
    "collapsed": false,
    "ExecuteTime": {
     "end_time": "2023-10-02T13:24:12.521321Z",
     "start_time": "2023-10-02T13:24:12.514294Z"
    }
   },
   "id": "4748601cc3fc8e45"
  },
  {
   "cell_type": "code",
   "execution_count": 10,
   "outputs": [
    {
     "data": {
      "text/plain": "                                                      x  y\n6711      tennis, volleyball, tennis,volleyball & more.  1\n2031  Nokia, Siemens, Nokia Siemens Networks Offers ...  1\n5799  juice, milk, The beetroot juice or milk sugar ...  1\n6985  Toyota, BMW, Toyota continues to dominate the ...  0\n3589  Ruby, Java, Ruby on Rails, Java, C, C++, Herok...  1",
      "text/html": "<div>\n<style scoped>\n    .dataframe tbody tr th:only-of-type {\n        vertical-align: middle;\n    }\n\n    .dataframe tbody tr th {\n        vertical-align: top;\n    }\n\n    .dataframe thead th {\n        text-align: right;\n    }\n</style>\n<table border=\"1\" class=\"dataframe\">\n  <thead>\n    <tr style=\"text-align: right;\">\n      <th></th>\n      <th>x</th>\n      <th>y</th>\n    </tr>\n  </thead>\n  <tbody>\n    <tr>\n      <th>6711</th>\n      <td>tennis, volleyball, tennis,volleyball &amp; more.</td>\n      <td>1</td>\n    </tr>\n    <tr>\n      <th>2031</th>\n      <td>Nokia, Siemens, Nokia Siemens Networks Offers ...</td>\n      <td>1</td>\n    </tr>\n    <tr>\n      <th>5799</th>\n      <td>juice, milk, The beetroot juice or milk sugar ...</td>\n      <td>1</td>\n    </tr>\n    <tr>\n      <th>6985</th>\n      <td>Toyota, BMW, Toyota continues to dominate the ...</td>\n      <td>0</td>\n    </tr>\n    <tr>\n      <th>3589</th>\n      <td>Ruby, Java, Ruby on Rails, Java, C, C++, Herok...</td>\n      <td>1</td>\n    </tr>\n  </tbody>\n</table>\n</div>"
     },
     "execution_count": 10,
     "metadata": {},
     "output_type": "execute_result"
    }
   ],
   "source": [
    "# show the first rows of train\n",
    "train.head()"
   ],
   "metadata": {
    "collapsed": false,
    "ExecuteTime": {
     "end_time": "2023-10-02T13:24:13.217611Z",
     "start_time": "2023-10-02T13:24:13.209844Z"
    }
   },
   "id": "94659c3aadf119c6"
  },
  {
   "cell_type": "code",
   "execution_count": null,
   "outputs": [],
   "source": [],
   "metadata": {
    "collapsed": false
   },
   "id": "b5d8e80b2b6f04ae"
  }
 ],
 "metadata": {
  "kernelspec": {
   "display_name": "Python 3",
   "language": "python",
   "name": "python3"
  },
  "language_info": {
   "codemirror_mode": {
    "name": "ipython",
    "version": 2
   },
   "file_extension": ".py",
   "mimetype": "text/x-python",
   "name": "python",
   "nbconvert_exporter": "python",
   "pygments_lexer": "ipython2",
   "version": "2.7.6"
  }
 },
 "nbformat": 4,
 "nbformat_minor": 5
}
